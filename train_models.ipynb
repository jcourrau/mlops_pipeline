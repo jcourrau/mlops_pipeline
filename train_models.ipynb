{
 "cells": [
  {
   "metadata": {},
   "cell_type": "markdown",
   "source": "# A. Setup",
   "id": "1c64da932081c734"
  },
  {
   "metadata": {},
   "cell_type": "markdown",
   "source": "## Prophet Stock Model Training Notebook (Jupyter-ready)",
   "id": "ca18867eec44e1f8"
  },
  {
   "metadata": {
    "ExecuteTime": {
     "end_time": "2025-04-23T03:55:52.136754Z",
     "start_time": "2025-04-23T03:55:52.131455Z"
    }
   },
   "cell_type": "code",
   "source": [
    "import yfinance as yf\n",
    "import pandas as pd\n",
    "import joblib\n",
    "import os\n",
    "from prophet import Prophet\n",
    "import numpy as np\n",
    "from sklearn.metrics import mean_absolute_error, mean_absolute_percentage_error\n",
    "from datetime import datetime, timedelta"
   ],
   "id": "b7e2c968a4fd5935",
   "outputs": [],
   "execution_count": 120
  },
  {
   "metadata": {},
   "cell_type": "markdown",
   "source": "## Configuration",
   "id": "f2f5306802b54b0b"
  },
  {
   "metadata": {
    "ExecuteTime": {
     "end_time": "2025-04-23T02:59:02.545661Z",
     "start_time": "2025-04-23T02:59:02.539445Z"
    }
   },
   "cell_type": "code",
   "source": [
    "OUTPUT_DATA_PATH = \"data\"\n",
    "OUTPUT_MODEL_PATH = \"models\"\n",
    "REPORT_PATH = \"reports\"\n",
    "SYMBOL = \"BTC-USD\"\n",
    "START_DATE = \"2015-01-01\"\n",
    "\n",
    "\n",
    "os.makedirs(OUTPUT_DATA_PATH, exist_ok=True)\n",
    "os.makedirs(OUTPUT_MODEL_PATH, exist_ok=True)\n",
    "os.makedirs(REPORT_PATH, exist_ok=True)\n"
   ],
   "id": "bb6f4af3f1e2f870",
   "outputs": [],
   "execution_count": 52
  },
  {
   "metadata": {},
   "cell_type": "markdown",
   "source": "# B. Modeling Functions",
   "id": "b7bbb6d2fdea06e3"
  },
  {
   "metadata": {},
   "cell_type": "markdown",
   "source": "## 1. Download Historical Data",
   "id": "a54eb0c2d2137a87"
  },
  {
   "metadata": {
    "ExecuteTime": {
     "end_time": "2025-04-23T04:01:33.166734Z",
     "start_time": "2025-04-23T04:01:33.103336Z"
    }
   },
   "cell_type": "code",
   "source": [
    "start_date = START_DATE\n",
    "end_date = datetime.today().strftime(\"%Y-%m-%d\")\n",
    "\n",
    "print(f\"Downloading {SYMBOL}...\")\n",
    "try:\n",
    "    raw_btc_df = yf.download(SYMBOL, start=start_date, end=end_date, progress=False)\n",
    "    if raw_btc_df.empty:\n",
    "        raise ValueError(f\"No data returned for {SYMBOL}. Check the symbol or date range.\")\n",
    "\n",
    "        # Flatten any MultiIndex columns (yfinance sometimes gives you two‐level headers)\n",
    "    if isinstance(raw_btc_df.columns, pd.MultiIndex):\n",
    "        raw_btc_df.columns = raw_btc_df.columns.droplevel(1)\n",
    "        raw_btc_df = raw_btc_df.reset_index()\n",
    "        raw_btc_df.columns.name = None\n",
    "\n",
    "    raw_btc_df.to_csv(f\"{OUTPUT_DATA_PATH}/{SYMBOL}_raw.csv\", index=False)\n",
    "    print(f\"Successfully downloaded and saved data for {SYMBOL}. Rows: {len(raw_btc_df)}\")\n",
    "\n",
    "    print(f\"\\n{raw_btc_df.head()}\")\n",
    "\n",
    "except Exception as e:\n",
    "    print(f\"Error downloading data for {SYMBOL}: {e}\")\n",
    "    raise\n",
    "\n",
    "\n",
    "\n"
   ],
   "id": "73d45a309e7fa619",
   "outputs": [
    {
     "name": "stdout",
     "output_type": "stream",
     "text": [
      "Downloading BTC-USD...\n",
      "Successfully downloaded and saved data for BTC-USD. Rows: 3764\n",
      "\n",
      "        Date       Close        High         Low        Open    Volume\n",
      "0 2015-01-01  314.248993  320.434998  314.002991  320.434998   8036550\n",
      "1 2015-01-02  315.032013  315.838989  313.565002  314.079010   7860650\n",
      "2 2015-01-03  281.082001  315.149994  281.082001  314.846008  33054400\n",
      "3 2015-01-04  264.195007  287.230011  257.612000  281.145996  55629100\n",
      "4 2015-01-05  274.473999  278.341003  265.084015  265.084015  43962800\n"
     ]
    }
   ],
   "execution_count": 130
  },
  {
   "metadata": {},
   "cell_type": "markdown",
   "source": "## 2. Cleaning",
   "id": "3f959d350ba3ae1b"
  },
  {
   "metadata": {
    "ExecuteTime": {
     "end_time": "2025-04-23T04:01:35.687556Z",
     "start_time": "2025-04-23T04:01:35.676299Z"
    }
   },
   "cell_type": "code",
   "source": [
    "def clean_stock(raw_df):\n",
    "    raw_data  = raw_df.copy()\n",
    "\n",
    "    # Rename for Prophet and convert date dtype\n",
    "    cleaned_btc_df = raw_data.rename(columns={'Date':'ds','Close':'y'})\n",
    "    cleaned_btc_df['ds'] = pd.to_datetime(cleaned_btc_df['ds'])\n",
    "\n",
    "    cleaned_btc_df = (\n",
    "        raw_df\n",
    "          .sort_values(\"Date\")\n",
    "          .loc[:, [\"Date\", \"Close\"]]\n",
    "          .dropna()\n",
    "          .rename(columns={\"Date\":\"ds\",\"Close\":\"y\"})\n",
    "    )\n",
    "\n",
    "    # Reset index cleanly and remove any index/column names\n",
    "    cleaned_btc_df = cleaned_btc_df.reset_index(drop=True)\n",
    "    cleaned_btc_df.index.name = None\n",
    "    cleaned_btc_df.columns.name = None\n",
    "\n",
    "    print(f\"Preprocessed data: {cleaned_btc_df.shape[0]} rows\")\n",
    "    print(cleaned_btc_df.head())\n",
    "\n",
    "    return cleaned_btc_df"
   ],
   "id": "368ba0f62952e8be",
   "outputs": [],
   "execution_count": 131
  },
  {
   "metadata": {},
   "cell_type": "markdown",
   "source": [
    "## 3. Process data\n",
    "To reduce Error"
   ],
   "id": "3c7496bbdc439b9e"
  },
  {
   "metadata": {
    "ExecuteTime": {
     "end_time": "2025-04-23T04:01:37.705535Z",
     "start_time": "2025-04-23T04:01:37.701177Z"
    }
   },
   "cell_type": "code",
   "source": [
    "def preprocess_stock(cleaned_btc_df):\n",
    "    return cleaned_btc_df\n"
   ],
   "id": "917667e1fa18084f",
   "outputs": [],
   "execution_count": 132
  },
  {
   "metadata": {},
   "cell_type": "markdown",
   "source": "## 4. Training",
   "id": "255424826158477"
  },
  {
   "metadata": {
    "ExecuteTime": {
     "end_time": "2025-04-23T04:01:39.553222Z",
     "start_time": "2025-04-23T04:01:39.545281Z"
    }
   },
   "cell_type": "code",
   "source": [
    "def train_model(training_df):\n",
    "    if training_df.empty or 'y' not in training_df.columns or 'ds' not in training_df.columns:\n",
    "        raise ValueError(\"Input DataFrame is invalid or missing required columns ('ds', 'y')\")\n",
    "\n",
    "    training_df['y'] = np.log(training_df['y']) # log-transform target\n",
    "\n",
    "    model = Prophet(\n",
    "        changepoint_prior_scale=0.2,\n",
    "        seasonality_mode='multiplicative'\n",
    "    )\n",
    "    model.add_seasonality(name='monthly', period=30.5, fourier_order=5)\n",
    "    model.add_regressor('Volume')\n",
    "\n",
    "    model.fit(training_df)\n",
    "\n",
    "\n",
    "    return model"
   ],
   "id": "874d55dc29411b21",
   "outputs": [],
   "execution_count": 133
  },
  {
   "metadata": {},
   "cell_type": "markdown",
   "source": "## 5. Serialize Model",
   "id": "f099600137e02c6"
  },
  {
   "metadata": {
    "ExecuteTime": {
     "end_time": "2025-04-23T02:59:21.849275Z",
     "start_time": "2025-04-23T02:59:21.844632Z"
    }
   },
   "cell_type": "code",
   "source": [
    "def serialize_model(model, symbol):\n",
    "    joblib.dump(model, f\"{OUTPUT_MODEL_PATH}/{symbol}_prophet.pkl\")"
   ],
   "id": "fcac4534a2edf919",
   "outputs": [],
   "execution_count": 56
  },
  {
   "metadata": {},
   "cell_type": "markdown",
   "source": "## 6. Evaluate Model",
   "id": "aed07bd9d8968bba"
  },
  {
   "metadata": {
    "ExecuteTime": {
     "end_time": "2025-04-23T04:06:26.978839Z",
     "start_time": "2025-04-23T04:06:26.972039Z"
    }
   },
   "cell_type": "code",
   "source": [
    "def evaluate_model(original_df, model, symbol):\n",
    "    # split\n",
    "    train = original_df[:-30]\n",
    "    test  = original_df[-30:]\n",
    "\n",
    "    # fit on train\n",
    "    m = Prophet().fit(train)\n",
    "\n",
    "    # forecast test-period\n",
    "    future = m.make_future_dataframe(periods=30)\n",
    "    forecast = m.predict(future)\n",
    "\n",
    "    # merge only on the test window\n",
    "    df_eval = test.merge(forecast[['ds','yhat']], on='ds')\n",
    "    mape = np.mean(np.abs((df_eval['y'] - df_eval['yhat'])/df_eval['y']))\n",
    "\n",
    "    with open(f\"{REPORT_PATH}/{symbol}_report.md\", \"w\") as f:\n",
    "        f.write(f\"# Prophet Model Report: {symbol}\\n\")\n",
    "        f.write(f\"- MAPE: {mape:.2f}\\n\")\n",
    "        f.write(f\"- Data points: {len(original_df)}\\n\")\n",
    "\n",
    "    print(f\"{symbol} | Error: {mape*100:.1f}%\")"
   ],
   "id": "36514a7e3aa15ccc",
   "outputs": [],
   "execution_count": 136
  },
  {
   "metadata": {},
   "cell_type": "markdown",
   "source": "# C. Execute\n",
   "id": "af1eb432caab3d58"
  },
  {
   "metadata": {
    "ExecuteTime": {
     "end_time": "2025-04-23T04:06:34.111005Z",
     "start_time": "2025-04-23T04:06:31.262344Z"
    }
   },
   "cell_type": "code",
   "source": [
    "clean_df = clean_stock(raw_btc_df)\n",
    "processed_df = preprocess_stock(clean_df)\n",
    "prophet_model = train_model(processed_df)\n",
    "serialize_model(prophet_model, SYMBOL)\n",
    "evaluate_model(processed_df, prophet_model, SYMBOL)\n",
    "\n",
    "print(\"\\n Bitcoin model trained, serialized, and reported.\")"
   ],
   "id": "58d9c56c15bf349b",
   "outputs": [
    {
     "name": "stdout",
     "output_type": "stream",
     "text": [
      "Preprocessed data: 3764 rows\n",
      "          ds           y\n",
      "0 2015-01-01  314.248993\n",
      "1 2015-01-02  315.032013\n",
      "2 2015-01-03  281.082001\n",
      "3 2015-01-04  264.195007\n",
      "4 2015-01-05  274.473999\n"
     ]
    },
    {
     "name": "stderr",
     "output_type": "stream",
     "text": [
      "22:06:31 - cmdstanpy - INFO - Chain [1] start processing\n",
      "22:06:32 - cmdstanpy - INFO - Chain [1] done processing\n",
      "22:06:32 - cmdstanpy - INFO - Chain [1] start processing\n",
      "22:06:33 - cmdstanpy - INFO - Chain [1] done processing\n"
     ]
    },
    {
     "name": "stdout",
     "output_type": "stream",
     "text": [
      "BTC-USD | Error: 17.8%\n",
      "\n",
      " Bitcoin model trained, serialized, and reported.\n"
     ]
    }
   ],
   "execution_count": 137
  }
 ],
 "metadata": {
  "kernelspec": {
   "display_name": "Python 3",
   "language": "python",
   "name": "python3"
  },
  "language_info": {
   "codemirror_mode": {
    "name": "ipython",
    "version": 2
   },
   "file_extension": ".py",
   "mimetype": "text/x-python",
   "name": "python",
   "nbconvert_exporter": "python",
   "pygments_lexer": "ipython2",
   "version": "2.7.6"
  }
 },
 "nbformat": 4,
 "nbformat_minor": 5
}
